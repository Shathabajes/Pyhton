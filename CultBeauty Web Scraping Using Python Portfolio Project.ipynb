{
 "cells": [
  {
   "cell_type": "code",
   "execution_count": null,
   "id": "6753bdfd",
   "metadata": {},
   "outputs": [],
   "source": [
    "from bs4 import BeautifulSoup\n",
    "import requests\n",
    "import smtplib\n",
    "import time\n",
    "import datetime\n"
   ]
  },
  {
   "cell_type": "code",
   "execution_count": null,
   "id": "8a8cc9ad",
   "metadata": {},
   "outputs": [],
   "source": [
    "#connect to website\n",
    "url=r'https://www.cultbeauty.co.uk/living-proof-scalp-care-exfoliator-100ml/15323113.html'\n",
    "headers={\"User-Agent\":\"Mozilla/5.0 (Windows NT 10.0; Win64; x64) AppleWebKit/537.36 (KHTML, like Gecko) Chrome/126.0.0.0 Safari/537.36\"}\n",
    "\n",
    "page=requests.get(url,headers=headers)\n",
    "\n",
    "soup1=BeautifulSoup(page.content,'html.parser')\n",
    "\n",
    "soup2=BeautifulSoup(soup1.prettify(),'html.parser')\n"
   ]
  },
  {
   "cell_type": "code",
   "execution_count": null,
   "id": "0d07fd4b",
   "metadata": {},
   "outputs": [],
   "source": [
    "title=soup2.find(class_='productName').get_text().strip()\n",
    "print(title)\n"
   ]
  },
  {
   "cell_type": "code",
   "execution_count": null,
   "id": "281c2d89",
   "metadata": {},
   "outputs": [],
   "source": [
    "price = soup2.find(class_='productPrice_price' ).get_text().strip()[1:]\n",
    "print(price)\n",
    "\n"
   ]
  },
  {
   "cell_type": "code",
   "execution_count": null,
   "id": "b6b53e90",
   "metadata": {},
   "outputs": [],
   "source": [
    "today=datetime.date.today()"
   ]
  },
  {
   "cell_type": "code",
   "execution_count": null,
   "id": "b4668856",
   "metadata": {},
   "outputs": [],
   "source": [
    "import csv\n",
    "\n",
    "#this should be run only one time\n",
    "header=['Title' , 'Price','Date']\n",
    "data=[title, price, today]\n",
    "\n",
    "with open('CultBeautyWebScraber.csv','w',newline='',encoding ='UTF8') as f:\n",
    "    writer=csv.writer(f)\n",
    "    writer.writerow(header)\n",
    "    writer.writerow(data)"
   ]
  },
  {
   "cell_type": "code",
   "execution_count": null,
   "id": "d5059240",
   "metadata": {},
   "outputs": [],
   "source": []
  },
  {
   "cell_type": "code",
   "execution_count": null,
   "id": "588315b0",
   "metadata": {},
   "outputs": [],
   "source": [
    "import csv\n",
    "def check_price():\n",
    "    url=r'https://www.cultbeauty.co.uk/living-proof-scalp-care-exfoliator-100ml/15323113.html'\n",
    "    headers={\"User-Agent\":\"Mozilla/5.0 (Windows NT 10.0; Win64; x64) AppleWebKit/537.36 (KHTML, like Gecko) Chrome/126.0.0.0 Safari/537.36\"}\n",
    "\n",
    "    page=requests.get(url,headers=headers)\n",
    "\n",
    "    soup1=BeautifulSoup(page.content,'html.parser')\n",
    "\n",
    "    soup2=BeautifulSoup(soup1.prettify(),'html.parser')\n",
    "    \n",
    "    title=soup2.find(class_='productName').get_text().strip()\n",
    "    price = soup2.find(class_='productPrice_price' ).get_text().strip()[1:]\n",
    "    \n",
    "\n",
    "    today=datetime.date.today()\n",
    "    header=['Title' , 'Price','Date']\n",
    "    data=[title, price, today]\n",
    "    \n",
    "    with open('CultBeautyWebScraber.csv','a+',newline='',encoding ='UTF8') as f:\n",
    "        writer=csv.writer(f)\n",
    "        #writer.writerow(header)\n",
    "        writer.writerow(data)\n",
    "    "
   ]
  },
  {
   "cell_type": "code",
   "execution_count": null,
   "id": "da325cfc",
   "metadata": {},
   "outputs": [],
   "source": [
    "while (True): \n",
    "    check_price()\n",
    "    time.sleep(86400) #it is going to check the price every single day "
   ]
  },
  {
   "cell_type": "code",
   "execution_count": null,
   "id": "9536cdf8",
   "metadata": {},
   "outputs": [],
   "source": []
  },
  {
   "cell_type": "code",
   "execution_count": null,
   "id": "30a5b5ad",
   "metadata": {},
   "outputs": [],
   "source": [
    "import pandas as pd\n",
    "df=pd.read_csv(r'C:\\Users\\Dell\\Python tutorials\\CultBeautyWebScraber.csv')\n",
    "print(df)"
   ]
  },
  {
   "cell_type": "code",
   "execution_count": null,
   "id": "ef389b92",
   "metadata": {},
   "outputs": [],
   "source": []
  }
 ],
 "metadata": {
  "kernelspec": {
   "display_name": "Python 3 (ipykernel)",
   "language": "python",
   "name": "python3"
  },
  "language_info": {
   "codemirror_mode": {
    "name": "ipython",
    "version": 3
   },
   "file_extension": ".py",
   "mimetype": "text/x-python",
   "name": "python",
   "nbconvert_exporter": "python",
   "pygments_lexer": "ipython3",
   "version": "3.9.13"
  }
 },
 "nbformat": 4,
 "nbformat_minor": 5
}
